{
 "cells": [
  {
   "cell_type": "markdown",
   "metadata": {},
   "source": [
    "# opencv_toolのテスト用ノートブック"
   ]
  },
  {
   "cell_type": "code",
   "execution_count": null,
   "metadata": {},
   "outputs": [
    {
     "name": "stderr",
     "output_type": "stream",
     "text": [
      "Z:\\Anaconda3\\envs\\cv34\\lib\\site-packages\\ipykernel_launcher.py:13: RuntimeWarning: overflow encountered in square\n",
      "  del sys.path[0]\n",
      "Z:\\Anaconda3\\envs\\cv34\\lib\\site-packages\\ipykernel_launcher.py:13: RuntimeWarning: invalid value encountered in subtract\n",
      "  del sys.path[0]\n",
      "Z:\\Anaconda3\\envs\\cv34\\lib\\site-packages\\ipykernel_launcher.py:13: RuntimeWarning: overflow encountered in multiply\n",
      "  del sys.path[0]\n",
      "Z:\\Anaconda3\\envs\\cv34\\lib\\site-packages\\ipykernel_launcher.py:15: RuntimeWarning: overflow encountered in square\n",
      "  from ipykernel import kernelapp as app\n",
      "Z:\\Anaconda3\\envs\\cv34\\lib\\site-packages\\ipykernel_launcher.py:15: RuntimeWarning: invalid value encountered in less\n",
      "  from ipykernel import kernelapp as app\n"
     ]
    }
   ],
   "source": [
    "#https://qiita.com/jabberwocky0139/items/33add5b3725204ad377f\n",
    "#画像を作る\n",
    "%matplotlib inline\n",
    "import numpy as np\n",
    "import matplotlib.pyplot as plt\n",
    "#import seaborn as sbn\n",
    "\n",
    "N, M = 50, 500\n",
    "\n",
    "def mandel(X, Y):\n",
    "    a, b = [0] * 2\n",
    "    for i in range(N):\n",
    "        a, b = a**2 - b**2 + X, 2 * a * b + Y\n",
    "\n",
    "    return a**2 + b**2 < 4\n",
    "\n",
    "x, y = [np.linspace(-2, 2, M)] * 2\n",
    "X, Y = np.meshgrid(x, y)\n",
    "plt.pcolor(X, Y, mandel(X, Y))\n",
    "plt.savefig('figure.png') \n",
    "plt.show()"
   ]
  },
  {
   "cell_type": "code",
   "execution_count": null,
   "metadata": {},
   "outputs": [],
   "source": [
    "# coding: utf_8\n",
    "#漢字のファイル名にする\n",
    "import os\n",
    "if os.path.exists(\"漢字.png\".encode('utf-8')):\n",
    "    os.remove(\"漢字.png\".encode('utf-8'))\n",
    "os.rename(\"figure.png\",\"漢字.png\".encode('utf-8'))"
   ]
  },
  {
   "cell_type": "code",
   "execution_count": null,
   "metadata": {},
   "outputs": [],
   "source": [
    "import opencv_tools as ns\n",
    "img=ns.imread('漢字.png'.encode('utf-8'))\n",
    "img.size"
   ]
  },
  {
   "cell_type": "code",
   "execution_count": null,
   "metadata": {},
   "outputs": [],
   "source": [
    "import cv2\n",
    "cv2.imshow('frame',img)\n",
    "cv2.waitKey(0)\n",
    "cv2.destroyAllWindows()"
   ]
  },
  {
   "cell_type": "code",
   "execution_count": null,
   "metadata": {},
   "outputs": [],
   "source": [
    "import opencv_tools as ns\n",
    "img2=ns.draw_text(img,\"吾輩は猫である。\",(100,50))"
   ]
  },
  {
   "cell_type": "code",
   "execution_count": null,
   "metadata": {},
   "outputs": [],
   "source": [
    "import cv2\n",
    "cv2.imshow('frame2',img2)\n",
    "cv2.waitKey(0)\n",
    "cv2.destroyAllWindows()"
   ]
  },
  {
   "cell_type": "code",
   "execution_count": null,
   "metadata": {},
   "outputs": [],
   "source": [
    "import opencv_tools as ns\n",
    "ns.imwrite('漢字２.png',img2)"
   ]
  },
  {
   "cell_type": "code",
   "execution_count": null,
   "metadata": {},
   "outputs": [],
   "source": []
  }
 ],
 "metadata": {
  "kernelspec": {
   "display_name": "Python 3",
   "language": "python",
   "name": "python3"
  },
  "language_info": {
   "codemirror_mode": {
    "name": "ipython",
    "version": 3
   },
   "file_extension": ".py",
   "mimetype": "text/x-python",
   "name": "python",
   "nbconvert_exporter": "python",
   "pygments_lexer": "ipython3",
   "version": "3.6.5"
  }
 },
 "nbformat": 4,
 "nbformat_minor": 2
}
